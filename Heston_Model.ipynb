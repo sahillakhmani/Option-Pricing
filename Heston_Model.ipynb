{
 "cells": [
  {
   "cell_type": "code",
   "execution_count": null,
   "id": "0e5caed1",
   "metadata": {
    "colab": {
     "base_uri": "https://localhost:8080/"
    },
    "id": "PSBlY9JUFEKA",
    "outputId": "365b864e-4a7f-4ff6-cc68-c4e36bb93539"
   },
   "outputs": [
    {
     "name": "stdout",
     "output_type": "stream",
     "text": [
      "Call Option Greeks: {'Delta': np.float64(0.4824718026164055), 'Gamma': np.float64(0.019927857653549423), 'Vega': np.float64(39.85571530709884), 'Theta': np.float64(-4.8164196395539625), 'Rho': np.float64(41.54240544220389)}\n",
      "Put Option Greeks: {'Delta': np.float64(-0.5175281973835946), 'Gamma': np.float64(0.019927857653549423), 'Vega': np.float64(39.85571530709884), 'Theta': np.float64(-2.758002425609776), 'Rho': np.float64(-61.37845525500541)}\n"
     ]
    }
   ],
   "source": [
    "def black_scholes_greeks(S0, K, T, r, sigma, option_type = \"call\"):\n",
    "    \"\"\" Function docstring \"\"\"\n",
    "    \"\"\"\n",
    "    Compute the Greeks for a European option using the Black - Scholes model.\n",
    "\n",
    "    Parameters:\n",
    "    S0 : float  - Current stock price\n",
    "    K : float   - Strike price\n",
    "    T : float   - Time to maturity (in years)\n",
    "    r : float   - Risk - free interest rate\n",
    "    sigma : float - Volatility of the stock\n",
    "    option_type : str - \"call\" or \"put\"\n",
    "\n",
    "    Returns:\n",
    "    dict - Contains Delta, Gamma, Vega, Theta, and Rho\n",
    "    \"\"\"\n",
    "    d1 = (np.log(S0 / K) + (r + 0.5 * sigma ** 2) * T) / (sigma * np.sqrt(T))\n",
    "    d2 = d1 - sigma * np.sqrt(T)\n",
    "\n",
    "    delta = norm.cdf(d1) if option_type == \"call\" else norm.cdf(d1) - 1\n",
    "    gamma = norm.pdf(d1) / (S0 * sigma * np.sqrt(T))\n",
    "    vega = S0 * norm.pdf(d1) * np.sqrt(T)\n",
    "    theta_call = ( - S0 * norm.pdf(d1) * sigma / (2 * np.sqrt(T))) - (r * K * np.exp( - r * T) * norm.cdf(d2))\n",
    "    theta_put = ( - S0 * norm.pdf(d1) * sigma / (2 * np.sqrt(T))) + (r * K * np.exp( - r * T) * norm.cdf( - d2))\n",
    "    theta = theta_call if option_type == \"call\" else theta_put\n",
    "    rho_call = K * T * np.exp( - r * T) * norm.cdf(d2)\n",
    "    rho_put = -K * T * np.exp( - r * T) * norm.cdf( - d2)\n",
    "    rho = rho_call if option_type == \"call\" else rho_put\n",
    "\n",
    "    return {\"Delta\": delta, \"Gamma\": gamma, \"Vega\": vega, \"Theta\": theta, \"Rho\": rho}\n",
    "\n",
    "# Parameters (Same as Heston Model)\n",
    "S0 = 100   # Stock price\n",
    "K = 105    # Strike price\n",
    "T = 1      # Time to maturity\n",
    "r = 0.02   # Risk - free rate\n",
    "sigma = np.sqrt(0.20 * *2)\n",
    "\n",
    "greeks_call = black_scholes_greeks(S0, K, T, r, sigma, option_type = \"call\")\n",
    "greeks_put = black_scholes_greeks(S0, K, T, r, sigma, option_type = \"put\")\n",
    "\n",
    "print(\"Call Option Greeks:\", greeks_call)\n",
    "print(\"Put Option Greeks:\", greeks_put)\n"
   ]
  }
 ],
 "metadata": {},
 "nbformat": 4,
 "nbformat_minor": 5
}
